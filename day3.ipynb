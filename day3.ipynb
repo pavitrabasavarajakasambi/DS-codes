{
 "cells": [
  {
   "cell_type": "markdown",
   "id": "2d148668-1d45-4c97-bfb9-dda58ff8313c",
   "metadata": {},
   "source": [
    "# Node creation"
   ]
  },
  {
   "cell_type": "code",
   "execution_count": 1,
   "id": "c40a0385-5951-4daf-9502-7fabbd656fc9",
   "metadata": {},
   "outputs": [],
   "source": [
    "class Node:\n",
    "    def __init__(self,data):\n",
    "        self.data = None\n",
    "        self.next = None"
   ]
  },
  {
   "cell_type": "code",
   "execution_count": 2,
   "id": "16985aa3-6ff1-450b-8720-69d02afe7052",
   "metadata": {},
   "outputs": [],
   "source": [
    "class linkedlist:\n",
    "    def __init__(self):\n",
    "        self.head = None"
   ]
  },
  {
   "cell_type": "code",
   "execution_count": 3,
   "id": "2343f3ab-1a31-4da3-89d5-59d495f638f4",
   "metadata": {},
   "outputs": [],
   "source": [
    "def insert_beg(self,data):\n",
    "    new_nd = Node(data)\n",
    "    new_nd.next = self.head #next node of new node is current head\n",
    "    self.head=new_node #head is assigned as new node"
   ]
  },
  {
   "cell_type": "code",
   "execution_count": 4,
   "id": "c847e751-5d58-4d93-beaf-30a195edf3c9",
   "metadata": {},
   "outputs": [],
   "source": [
    "def insertend(self,data):\n",
    "    nd1 = Node(data)\n",
    "    if self.head == None:\n",
    "        self.head = nd1\n",
    "        return\n",
    "    current = self.head\n",
    "    while current.next:\n",
    "        current = current.next #last_node\n",
    "    curent.next = nd1"
   ]
  },
  {
   "cell_type": "markdown",
   "id": "c95a647c-1dea-4d79-883b-f3b653bacad7",
   "metadata": {},
   "source": [
    "creat a class named 'mylinkedlist' which can initialized and insert nodes at the begining"
   ]
  },
  {
   "cell_type": "code",
   "execution_count": 1,
   "id": "d0028c73-e83f-45d2-af71-a0abd62051cc",
   "metadata": {},
   "outputs": [],
   "source": [
    "class MyLL:\n",
    "    class mynodes:\n",
    "        def __init__(self,data):\n",
    "            self.data = data\n",
    "            self.next = None\n",
    "            \n",
    "    def __init__(self):\n",
    "        self.head = None\n",
    "    def insertbe(self,data):\n",
    "        new_node = MyLL.mynodes(data)\n",
    "        new_node.next = self.head\n",
    "        self.head = new_node\n",
    "    def insertend(self,data):\n",
    "        new_node = MyLL.myNode(data)\n",
    "        if self.head == None:\n",
    "            self.head = new_node\n",
    "        return\n",
    "        current = self.head\n",
    "        while current.next:\n",
    "            current = current.next #last_node\n",
    "        curent.next = new_node\n",
    "    def insertaft(self,data,prev_node):\n",
    "        new_node = MyLL.mynodes(data)\n",
    "        new_node.next = prev_node.next\n",
    "        prev_node.next = new_node\n",
    "    def print_LL(self):\n",
    "        current = self.head\n",
    "        while current:\n",
    "            print(current.data, end = '-->')\n",
    "            current = current.next  \n",
    "    def search(self,val):\n",
    "        current = self.head\n",
    "        while current:\n",
    "            if current.data == val:\n",
    "                return True\n",
    "            current = current.next\n",
    "        return False\n",
    "    def deletefirst(self):\n",
    "        self.head = self.head.next\n",
    "    def deletend(self):\n",
    "        if self.head == None:\n",
    "            return\n",
    "        current = self.head\n",
    "        while current.next.next!=None:\n",
    "            current = current.next\n",
    "        current.next = None\n",
    "    def del_by_val(self,x):\n",
    "        if self.head.data == x:\n",
    "            self.head = self.head.next\n",
    "        current = self.head\n",
    "        while current.next:\n",
    "            if current.next.data !=x:\n",
    "                current = current.next\n",
    "            else:\n",
    "                break\n",
    "        if current.next:\n",
    "            current.next = current.next.next\n",
    "        else:\n",
    "            return \"not found\"                                                                                                                                                            "
   ]
  },
  {
   "cell_type": "code",
   "execution_count": 2,
   "id": "004c24f9-2a64-4692-89cf-2808d70123cf",
   "metadata": {},
   "outputs": [
    {
     "name": "stdout",
     "output_type": "stream",
     "text": [
      "40-->89-->55-->"
     ]
    }
   ],
   "source": [
    "j = MyLL()\n",
    "j.insertbe(55)\n",
    "j.insertbe(90)\n",
    "j.insertbe(89)\n",
    "j.insertbe(40)\n",
    "j.del_by_val(90)\n",
    "j.print_LL()\n"
   ]
  },
  {
   "cell_type": "code",
   "execution_count": null,
   "id": "e94b433d-449d-421e-928b-475e279faf7b",
   "metadata": {},
   "outputs": [],
   "source": []
  }
 ],
 "metadata": {
  "kernelspec": {
   "display_name": "Python 3 (ipykernel)",
   "language": "python",
   "name": "python3"
  },
  "language_info": {
   "codemirror_mode": {
    "name": "ipython",
    "version": 3
   },
   "file_extension": ".py",
   "mimetype": "text/x-python",
   "name": "python",
   "nbconvert_exporter": "python",
   "pygments_lexer": "ipython3",
   "version": "3.11.7"
  }
 },
 "nbformat": 4,
 "nbformat_minor": 5
}
