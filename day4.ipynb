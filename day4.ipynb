{
 "cells": [
  {
   "cell_type": "markdown",
   "id": "a03e4a68-33ea-48bd-beee-1b568498682a",
   "metadata": {},
   "source": [
    "stack class that supports push,pop,peek functions"
   ]
  },
  {
   "cell_type": "code",
   "execution_count": 2,
   "id": "89c96c23-5cae-43df-a321-6cac5e8be433",
   "metadata": {},
   "outputs": [],
   "source": [
    "class stack:\n",
    "    def __init__(self):\n",
    "        self.stack=[]\n",
    "    def push(self,item):\n",
    "        self.stack.append(item)\n",
    "    def pop(self):\n",
    "        if len(self.stack)==0:\n",
    "            print(\"no element to pop\")\n",
    "        else:\n",
    "            return self.stack.pop()\n",
    "    def peek(self):\n",
    "        if self.stack[-1]:\n",
    "            return self.stack[-1]\n",
    "        else:\n",
    "            print(\"stack is empty\")\n",
    "\n",
    "obj=stack()\n",
    "\n",
    "obj.push(67)\n",
    "obj.push(68)\n",
    "obj.push(69)"
   ]
  },
  {
   "cell_type": "code",
   "execution_count": 3,
   "id": "7a27f2e2-08fa-4748-9a8b-bf449a49df3b",
   "metadata": {},
   "outputs": [
    {
     "data": {
      "text/plain": [
       "69"
      ]
     },
     "execution_count": 3,
     "metadata": {},
     "output_type": "execute_result"
    }
   ],
   "source": [
    "obj.pop()"
   ]
  },
  {
   "cell_type": "code",
   "execution_count": 4,
   "id": "55eac40b-7879-417a-b6ee-3c65c3e81c80",
   "metadata": {},
   "outputs": [
    {
     "data": {
      "text/plain": [
       "68"
      ]
     },
     "execution_count": 4,
     "metadata": {},
     "output_type": "execute_result"
    }
   ],
   "source": [
    "obj.peek()"
   ]
  },
  {
   "cell_type": "markdown",
   "id": "417f7424-be28-462c-8f25-9731f256686a",
   "metadata": {},
   "source": [
    "implement queue using stacks"
   ]
  },
  {
   "cell_type": "code",
   "execution_count": 6,
   "id": "cee39a46-0f03-4806-8921-181f324eb8b4",
   "metadata": {},
   "outputs": [],
   "source": [
    "class Queue:\n",
    "    def __init__(self):\n",
    "        self.stack1=[]\n",
    "        self.stack2=[]\n",
    "    def push(self,x):\n",
    "        self.stack1.append(x)\n",
    "    def pop(self):\n",
    "        self.peek()\n",
    "        return self.stack2.pop()\n",
    "    def peek(self):\n",
    "        if not self.stack2:\n",
    "            while self.stack1:\n",
    "                self.stack2.append(self.stack1.pop())\n",
    "        return self.stack2[-1]\n",
    "    def empty(self):\n",
    "        return not self.stack1 and not self.stack2\n",
    "\n",
    "q=Queue()\n",
    "q.push(5)\n",
    "q.push(7)\n",
    "q.push(9)"
   ]
  },
  {
   "cell_type": "code",
   "execution_count": 7,
   "id": "cca448e7-5ddd-46e2-bc85-ad4dcd8dc34f",
   "metadata": {},
   "outputs": [
    {
     "data": {
      "text/plain": [
       "5"
      ]
     },
     "execution_count": 7,
     "metadata": {},
     "output_type": "execute_result"
    }
   ],
   "source": [
    "q.pop()"
   ]
  },
  {
   "cell_type": "code",
   "execution_count": 8,
   "id": "5bab34e0-eae0-4ad4-a80e-10805ef829d6",
   "metadata": {},
   "outputs": [
    {
     "data": {
      "text/plain": [
       "7"
      ]
     },
     "execution_count": 8,
     "metadata": {},
     "output_type": "execute_result"
    }
   ],
   "source": [
    "q.peek()"
   ]
  },
  {
   "cell_type": "code",
   "execution_count": 9,
   "id": "0f108e36-89fc-4e93-bfd8-437527bccda0",
   "metadata": {},
   "outputs": [
    {
     "data": {
      "text/plain": [
       "False"
      ]
     },
     "execution_count": 9,
     "metadata": {},
     "output_type": "execute_result"
    }
   ],
   "source": [
    "q.empty()"
   ]
  },
  {
   "cell_type": "code",
   "execution_count": 10,
   "id": "b56769d8-f911-4b68-a1e0-242f32c55295",
   "metadata": {},
   "outputs": [],
   "source": [
    "class MyLL:\n",
    "    class mynodes:\n",
    "        def __init__(self,data):\n",
    "            self.data = data\n",
    "            self.next = None\n",
    "            \n",
    "    def __init__(self):\n",
    "        self.head = None\n",
    "    def insertbe(self,data):\n",
    "        new_node = MyLL.mynodes(data)\n",
    "        new_node.next = self.head\n",
    "        self.head = new_node\n",
    "    def insertend(self,data):\n",
    "        new_node = MyLL.myNode(data)\n",
    "        if self.head == None:\n",
    "            self.head = new_node\n",
    "        return\n",
    "        current = self.head\n",
    "        while current.next:\n",
    "            current = current.next #last_node\n",
    "        curent.next = new_node\n",
    "    def insertaft(self,data,prev_node):\n",
    "        new_node = MyLL.mynodes(data)\n",
    "        new_node.next = prev_node.next\n",
    "        prev_node.next = new_node\n",
    "    def print_LL(self):\n",
    "        current = self.head\n",
    "        while current:\n",
    "            print(current.data, end = '-->')\n",
    "            current = current.next  \n",
    "    def search(self,val):\n",
    "        current = self.head\n",
    "        while current:\n",
    "            if current.data == val:\n",
    "                return True\n",
    "            current = current.next\n",
    "        return False"
   ]
  },
  {
   "cell_type": "code",
   "execution_count": 11,
   "id": "bf0d6e54-c552-499a-a344-856fef034106",
   "metadata": {},
   "outputs": [
    {
     "name": "stdout",
     "output_type": "stream",
     "text": [
      "89-->90-->55-->"
     ]
    },
    {
     "data": {
      "text/plain": [
       "True"
      ]
     },
     "execution_count": 11,
     "metadata": {},
     "output_type": "execute_result"
    }
   ],
   "source": [
    "j = MyLL()\n",
    "j.insertbe(55)\n",
    "j.insertbe(90)\n",
    "j.insertbe(89)\n",
    "j.print_LL()\n",
    "j.search(90)"
   ]
  },
  {
   "cell_type": "code",
   "execution_count": null,
   "id": "9e371e4f-9812-4ae0-902b-daecd0704aba",
   "metadata": {},
   "outputs": [],
   "source": []
  }
 ],
 "metadata": {
  "kernelspec": {
   "display_name": "Python 3 (ipykernel)",
   "language": "python",
   "name": "python3"
  },
  "language_info": {
   "codemirror_mode": {
    "name": "ipython",
    "version": 3
   },
   "file_extension": ".py",
   "mimetype": "text/x-python",
   "name": "python",
   "nbconvert_exporter": "python",
   "pygments_lexer": "ipython3",
   "version": "3.11.7"
  }
 },
 "nbformat": 4,
 "nbformat_minor": 5
}
