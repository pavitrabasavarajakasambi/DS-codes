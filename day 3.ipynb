{
 "cells": [
  {
   "cell_type": "markdown",
   "id": "c6054d52-41ca-4623-a429-54d99c5c65c6",
   "metadata": {},
   "source": [
    "# Stack implementation using list"
   ]
  },
  {
   "cell_type": "code",
   "execution_count": 14,
   "id": "c4715c74-8bb8-4438-966c-d16101b52729",
   "metadata": {},
   "outputs": [],
   "source": [
    "class stack:\n",
    "    def __init__(self):\n",
    "        self.stack=[]\n",
    "    def push(self,item):\n",
    "        self.stack.append(item)\n",
    "    def pop(self):\n",
    "        return self.stack.pop()\n",
    "        def peak(self):\n",
    "            if self.stack:\n",
    "                return self,stack[-1]\n",
    "            else:\n",
    "                'stack is empty'"
   ]
  },
  {
   "cell_type": "code",
   "execution_count": 16,
   "id": "dd48b278-2cf4-4c9d-b545-ca6b843a6dcc",
   "metadata": {},
   "outputs": [
    {
     "data": {
      "text/plain": [
       "48"
      ]
     },
     "execution_count": 16,
     "metadata": {},
     "output_type": "execute_result"
    }
   ],
   "source": [
    "s=stack()\n",
    "s.push(44)\n",
    "s.push(48)\n",
    "s.pop()"
   ]
  },
  {
   "cell_type": "code",
   "execution_count": null,
   "id": "ffa3fed3-f7c3-42ad-b221-ed40a41e2d4a",
   "metadata": {},
   "outputs": [],
   "source": []
  }
 ],
 "metadata": {
  "kernelspec": {
   "display_name": "Python 3 (ipykernel)",
   "language": "python",
   "name": "python3"
  },
  "language_info": {
   "codemirror_mode": {
    "name": "ipython",
    "version": 3
   },
   "file_extension": ".py",
   "mimetype": "text/x-python",
   "name": "python",
   "nbconvert_exporter": "python",
   "pygments_lexer": "ipython3",
   "version": "3.11.7"
  }
 },
 "nbformat": 4,
 "nbformat_minor": 5
}
