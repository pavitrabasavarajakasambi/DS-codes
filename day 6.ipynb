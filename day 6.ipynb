{
 "cells": [
  {
   "cell_type": "code",
   "execution_count": 1,
   "id": "4827bd6f-59cc-4086-84c7-577682990ff4",
   "metadata": {},
   "outputs": [],
   "source": [
    "class MyLL:\n",
    "    class Node:\n",
    "        def __init__(self,data):\n",
    "            self.data = data\n",
    "            self.next = None\n",
    "            \n",
    "    def __init__(self):\n",
    "        self.head = None\n",
    "        \n",
    "    def insert(self,data):\n",
    "        new_node = MyLL.Node(data)\n",
    "        new_node.next = self.head\n",
    "        self.head = new_node\n",
    "        \n",
    "    def insertend(self,data):\n",
    "        new_node = MyLL.Node(data)\n",
    "        if self.head is None:\n",
    "            self.head = new_node\n",
    "            return\n",
    "        current = self.head\n",
    "        while current.next:\n",
    "            current = current.next #last_node\n",
    "        current.next = new_node\n",
    "        \n",
    "    def del_by_val(self,x):\n",
    "        if self.head.data == x:\n",
    "            self.head = self.head.next\n",
    "        current = self.head\n",
    "        while current.next:\n",
    "            if current.next.data!=x:\n",
    "                current.next = current.next.next\n",
    "                return \"Node deleted\"\n",
    "                current = current.next\n",
    "        return \"not found\" \n",
    "\n",
    "    def reverse(self):\n",
    "       prev = None\n",
    "       current = self.head\n",
    "       while current:\n",
    "           next_node = current.next\n",
    "           current.next = prev\n",
    "           prev = current\n",
    "           current = next_node\n",
    "       self.head = prev\n",
    "\n",
    "    def ptint_LL(self):\n",
    "       current = self.head\n",
    "       while current:\n",
    "           print(current.data, end=' --> ')\n",
    "           current = current.next\n",
    "       print('None')"
   ]
  },
  {
   "cell_type": "code",
   "execution_count": 7,
   "id": "00ef047f-a144-4426-b30d-ebfeb22e3e1f",
   "metadata": {},
   "outputs": [],
   "source": [
    "ll = MyLL()\n",
    "ll.insert(30)\n",
    "ll.insert(20)\n",
    "ll.insert(10)\n",
    "#ll.insterend(40)\n",
    "#ll.insertend(50)"
   ]
  },
  {
   "cell_type": "code",
   "execution_count": null,
   "id": "42c117b5-8f71-4755-a6f2-fa9cb7cddce4",
   "metadata": {},
   "outputs": [],
   "source": []
  }
 ],
 "metadata": {
  "kernelspec": {
   "display_name": "Python 3 (ipykernel)",
   "language": "python",
   "name": "python3"
  },
  "language_info": {
   "codemirror_mode": {
    "name": "ipython",
    "version": 3
   },
   "file_extension": ".py",
   "mimetype": "text/x-python",
   "name": "python",
   "nbconvert_exporter": "python",
   "pygments_lexer": "ipython3",
   "version": "3.11.7"
  }
 },
 "nbformat": 4,
 "nbformat_minor": 5
}
