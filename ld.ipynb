{
 "cells": [
  {
   "cell_type": "markdown",
   "id": "afe21b23-f3ce-4fcd-832a-4117d375c25d",
   "metadata": {},
   "source": [
    "The function accepts 2 positive integers 'r' and 'unit' and a positive integer array 'arr' of size 'n' as its argument 'r' represents the number of rats present in an area,'unit' is the amount of food each rat consumes and each ith element of array 'arr' represents the amount of food present in 'i+1' house number, where 0<=i\n",
    "- return -1 if the array is null\n",
    "- return 0 if the total amount of food from all houses is not sufficient for all the rats\n",
    "- computed values lie within the integer range"
   ]
  },
  {
   "cell_type": "code",
   "execution_count": 2,
   "id": "fd0bd94f-9bff-44ed-8155-2a87a6b8b4c3",
   "metadata": {},
   "outputs": [],
   "source": [
    "def rats(r,unit,arr):\n",
    "    if len(arr) == 0:\n",
    "        return -1\n",
    "    foodreq = r*unit\n",
    "    foodsofar = 0\n",
    "    for i in range (len(arr)):\n",
    "        foodsofar = foodsofar + arr[i]\n",
    "        if foodsofar >= foodreq:\n",
    "            print(i+1)\n",
    "            break\n",
    "    return 0"
   ]
  },
  {
   "cell_type": "code",
   "execution_count": 7,
   "id": "eb9f06e8-b851-4a44-8f68-4734685c9795",
   "metadata": {},
   "outputs": [
    {
     "name": "stdout",
     "output_type": "stream",
     "text": [
      "3\n"
     ]
    },
    {
     "data": {
      "text/plain": [
       "0"
      ]
     },
     "execution_count": 7,
     "metadata": {},
     "output_type": "execute_result"
    }
   ],
   "source": [
    "arr = [12,2,4,5]\n",
    "rats(5,3,arr)"
   ]
  },
  {
   "cell_type": "code",
   "execution_count": 2,
   "id": "6153dfdb-7244-49c1-80b7-66e7eb05fa63",
   "metadata": {},
   "outputs": [
    {
     "name": "stdin",
     "output_type": "stream",
     "text": [
      "enter a number: 20\n"
     ]
    },
    {
     "name": "stdout",
     "output_type": "stream",
     "text": [
      "1\n",
      "2\n",
      "4\n",
      "5\n",
      "10\n"
     ]
    }
   ],
   "source": [
    "def factors(num):\n",
    "    for i in range(1,(num//2)+1):\n",
    "        if num%i==0:\n",
    "            print (i)\n",
    "num = int(input(\"enter a number:\"))\n",
    "factors(num)"
   ]
  },
  {
   "cell_type": "code",
   "execution_count": null,
   "id": "d4d31d7a-5579-403e-bd7d-009a9346d85b",
   "metadata": {},
   "outputs": [],
   "source": []
  }
 ],
 "metadata": {
  "kernelspec": {
   "display_name": "Python 3 (ipykernel)",
   "language": "python",
   "name": "python3"
  },
  "language_info": {
   "codemirror_mode": {
    "name": "ipython",
    "version": 3
   },
   "file_extension": ".py",
   "mimetype": "text/x-python",
   "name": "python",
   "nbconvert_exporter": "python",
   "pygments_lexer": "ipython3",
   "version": "3.11.7"
  }
 },
 "nbformat": 4,
 "nbformat_minor": 5
}
