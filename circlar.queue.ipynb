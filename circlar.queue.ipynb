{
 "cells": [
  {
   "cell_type": "markdown",
   "id": "3ce966d4-a3ad-4911-b61b-1064a5af2d3b",
   "metadata": {},
   "source": [
    "# Cirular queue implementation with fixed size"
   ]
  },
  {
   "cell_type": "markdown",
   "id": "df687c0b-090a-4598-ba28-822df424e83f",
   "metadata": {},
   "source": [
    "1. Initialize:\n",
    "    - size\n",
    "    - Front pointer (exit)\n",
    "    - Rear pointer (entry)\n",
    "    - Queue (list)\n",
    "2. Enqueue:\n",
    "    - Queue is full (rear+1 == front)\n",
    "    - First element (rear = front = 0),then append\n",
    "    - Entering anywhere except at the begining (rear = rear+1%size),then append\n",
    "3. Dequeue:\n",
    "    - Rear = front = -1(Queue empty)\n",
    "    - Rear = front (only onr element remains)(pop it by movinf the front & rear to -1\n",
    "    - Dequeue the element pointed by front pointer(front means first element) & increment sront pointer\n",
    "   Dequeue = Moving the front pointer to next value"
   ]
  },
  {
   "cell_type": "code",
   "execution_count": 8,
   "id": "002dfe11-ff08-4965-a6ae-1f95b3034f6d",
   "metadata": {},
   "outputs": [],
   "source": [
    " class  CircularQ:\n",
    "     def __init__(self,size):\n",
    "         self.size = size\n",
    "         self.front = self.rear = -1\n",
    "         self.queue = [None]*size\n",
    "     def enqueue(self,data):\n",
    "         if (self.rear+1)%self.size == self.front:\n",
    "             print(\"Queue is full\")\n",
    "         elif self.front == -1:\n",
    "             self.front = self.rear = 0\n",
    "             self.queue[self.rear] = data\n",
    "         else:\n",
    "             self.rear = (self.rear+1)%self.size\n",
    "             self.queue[self.rear] = data\n",
    "\n",
    "     def dequeue(self):\n",
    "         if self.front == -1:\n",
    "             print(\"Queue is empty\")\n",
    "             popped = self.queue[self.front]\n",
    "         elif self.front == self.rear:\n",
    "             self.front = self.rear = -1\n",
    "         else:\n",
    "             popped = self.queue[self.front]\n",
    "             self.front = (self.front+1)%self.size\n",
    "             return popped\n",
    "\n",
    "     def display(self):\n",
    "        if self.front == -1:\n",
    "            print(\"Queue is empty\")\n",
    "            return\n",
    "        i = self.front\n",
    "        while True:\n",
    "            print(self.queue[i])\n",
    "            if i == self.rear:\n",
    "                break\n",
    "            i = (i+1)%self.size            "
   ]
  },
  {
   "cell_type": "code",
   "execution_count": 9,
   "id": "de8c0bf3-f38c-44ac-b4eb-53ba15645536",
   "metadata": {},
   "outputs": [
    {
     "name": "stdout",
     "output_type": "stream",
     "text": [
      "Queue is full\n",
      "Queue is empty\n"
     ]
    }
   ],
   "source": [
    "q = CircularQ(2)\n",
    "q.enqueue(89)\n",
    "q.enqueue(76)\n",
    "q.enqueue(52)\n",
    "q.dequeue()\n",
    "q.dequeue()\n",
    "q.dequeue()\n"
   ]
  },
  {
   "cell_type": "code",
   "execution_count": 10,
   "id": "ea2eb5b2-51ac-407f-a141-e3a9cb1ee9e3",
   "metadata": {},
   "outputs": [
    {
     "name": "stdout",
     "output_type": "stream",
     "text": [
      "10\n",
      "20\n",
      "30\n"
     ]
    }
   ],
   "source": [
    "q = CircularQ(3)\n",
    "q.enqueue(10)\n",
    "q.enqueue(20)\n",
    "q.enqueue(30)\n",
    "q.display()"
   ]
  },
  {
   "cell_type": "markdown",
   "id": "62974c2b-f740-4704-854e-cdc869d9c8c2",
   "metadata": {},
   "source": [
    "def difference of sum(n,m). the function accepts 2 integers n,m as arguments find the sum of all numbers in range from 1to m that are not divisibal by n return diff bw sum of integere not divisible by n with sum of number divisiblr by\n",
    "- n.input n=4,=20\n",
    "- output:90(4+8+12+16+20=60(1+2+3+5+6+7+9+10+11+13++14+15+17+18+19=150)(150-60=90)"
   ]
  },
  {
   "cell_type": "code",
   "execution_count": 11,
   "id": "85648540-71f7-4b4d-9e7b-bdda9d5bba1a",
   "metadata": {},
   "outputs": [],
   "source": [
    "def dif(n,m):\n",
    "    divi = 0\n",
    "    ndivi = 0\n",
    "    for i in range(1,m+1):\n",
    "        if i % 4 == 0:\n",
    "            divi = divi+1\n",
    "        else:\n",
    "            ndivi = ndivi+1\n",
    "    print(ndivi - divi)"
   ]
  },
  {
   "cell_type": "code",
   "execution_count": 12,
   "id": "804e042a-171d-45c7-8fd5-dc9b9a3cbd5d",
   "metadata": {},
   "outputs": [
    {
     "name": "stdout",
     "output_type": "stream",
     "text": [
      "20\n"
     ]
    }
   ],
   "source": [
    "dif(30,40)"
   ]
  },
  {
   "cell_type": "markdown",
   "id": "801c33cc-8004-4e74-9746-53e75f172226",
   "metadata": {},
   "source": [
    "you  are given a function.checkpassword(char,n):The function accepts string str of size n as an argument.implement the function which returns 1 if given string str is valid password else 0. str is valid password if it statics the below conditions \n",
    "- At least 4 character\n",
    "- At least one numeric digit\n",
    "- At least one capital Letter\n",
    "- Must not have space or slash(/)\n",
    "- starting character must not be a number"
   ]
  },
  {
   "cell_type": "code",
   "execution_count": 1,
   "id": "c70fd924-1557-4c43-b59b-23f9b0bcb374",
   "metadata": {},
   "outputs": [],
   "source": [
    "def checkpasswoed(str):\n",
    "    valid = False\n",
    "    if len(str)<4:\n",
    "        return 0\n",
    "    for i in str:\n",
    "        if i.isdigit():\n",
    "            valid = True\n",
    "            break\n",
    "    if valid==False:\n",
    "        return 0\n",
    "    valid = False\n",
    "    for i in str:\n",
    "        if i.isupper():\n",
    "            valid = True\n",
    "            break\n",
    "        if valid==False:\n",
    "            return 0\n",
    "        for i in str:\n",
    "            if i==\"\" or  i==\"/\":\n",
    "                return 0\n",
    "        if str[0].isdigit():\n",
    "            return 0\n",
    "        return 1\n",
    "\n",
    "def main():\n",
    "    pwd = input(\"enter password to check: \")\n",
    "    print(checPpassword(pwd))"
   ]
  },
  {
   "cell_type": "code",
   "execution_count": null,
   "id": "6679fc7a-93b4-47dd-81a1-e5b7036dd1e4",
   "metadata": {},
   "outputs": [],
   "source": [
    "main()"
   ]
  },
  {
   "cell_type": "code",
   "execution_count": null,
   "id": "ed393fea-ad4b-4e5f-9eb8-962bf7f3f232",
   "metadata": {},
   "outputs": [],
   "source": []
  }
 ],
 "metadata": {
  "kernelspec": {
   "display_name": "Python 3 (ipykernel)",
   "language": "python",
   "name": "python3"
  },
  "language_info": {
   "codemirror_mode": {
    "name": "ipython",
    "version": 3
   },
   "file_extension": ".py",
   "mimetype": "text/x-python",
   "name": "python",
   "nbconvert_exporter": "python",
   "pygments_lexer": "ipython3",
   "version": "3.11.7"
  }
 },
 "nbformat": 4,
 "nbformat_minor": 5
}
