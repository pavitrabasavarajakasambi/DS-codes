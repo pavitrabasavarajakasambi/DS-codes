{
 "cells": [
  {
   "cell_type": "markdown",
   "id": "cc194da4-ff69-4bc3-9171-d768bbc2140b",
   "metadata": {},
   "source": [
    "create a class called 'Myqueue' which can handle 1.Enqueue 2.Dequeue 3.Is empty 4.Display"
   ]
  },
  {
   "cell_type": "code",
   "execution_count": 12,
   "id": "606be231-95a7-47f1-b468-60187def52e5",
   "metadata": {},
   "outputs": [],
   "source": [
    "class Queue:\n",
    "    def __init__(self):\n",
    "        self.queue = []\n",
    "    def enqueue(self,data):\n",
    "        self.queue.append(data)\n",
    "    def dequeue(self):\n",
    "        if len(self.queue)==0:\n",
    "            print(\"empty queue,can't dequeue element\")\n",
    "            return\n",
    "        self.queue.pop(0)\n",
    "    def is_empty(self):\n",
    "        if len(self.queue)==0:\n",
    "           return True\n",
    "        else:\n",
    "           return False\n",
    "        def print(self):\n",
    "            for i in self.queue:\n",
    "                print(i,end=\"<--\")"
   ]
  },
  {
   "cell_type": "code",
   "execution_count": 17,
   "id": "9f33389a-acb3-4e7b-9d2a-c9fcbde50504",
   "metadata": {},
   "outputs": [],
   "source": [
    "q = Queue()\n",
    "q.enqueue(10)\n",
    "q.enqueue(20)\n",
    "q.enqueue(30)\n",
    "q.enqueue(40)\n",
    "q.dequeue()"
   ]
  },
  {
   "cell_type": "code",
   "execution_count": 18,
   "id": "543069bf-31cc-4fcb-a828-fea0356d9ede",
   "metadata": {},
   "outputs": [],
   "source": [
    "q.dequeue()"
   ]
  },
  {
   "cell_type": "code",
   "execution_count": 19,
   "id": "52de3702-e279-4ba6-b567-35d7abe5f737",
   "metadata": {},
   "outputs": [],
   "source": [
    "q.dequeue()"
   ]
  },
  {
   "cell_type": "code",
   "execution_count": 20,
   "id": "eb790992-450c-4609-b6c7-44a69f4bf04f",
   "metadata": {},
   "outputs": [],
   "source": [
    "q.dequeue()"
   ]
  },
  {
   "cell_type": "code",
   "execution_count": 21,
   "id": "fcc31616-6975-43b8-9c86-02c9b499f4ec",
   "metadata": {},
   "outputs": [
    {
     "name": "stdout",
     "output_type": "stream",
     "text": [
      "empty queue,can't dequeue element\n"
     ]
    }
   ],
   "source": [
    "q.dequeue()"
   ]
  },
  {
   "cell_type": "markdown",
   "id": "1093239d-e318-43f5-8b1f-785e13298eee",
   "metadata": {},
   "source": [
    "write a functio that accepts an array arr of size'length'as its arguments you are required to return thesum"
   ]
  },
  {
   "cell_type": "code",
   "execution_count": 27,
   "id": "1fec4d5a-f663-470a-8600-1ca822fedf58",
   "metadata": {},
   "outputs": [],
   "source": [
    "def summ_e_o(arr):\n",
    "    even = []\n",
    "    odd = []\n",
    "    for i in range(len(arr)):\n",
    "        if i%2==0:\n",
    "            even.append(arr[i])\n",
    "        else:\n",
    "            odd.append(arr[i])\n",
    "    even.sort()\n",
    "    odd.sort()\n",
    "    print(even[1]+odd[1])"
   ]
  },
  {
   "cell_type": "code",
   "execution_count": 28,
   "id": "671ad3ce-411b-4c33-b324-d0f2000d1a12",
   "metadata": {},
   "outputs": [
    {
     "name": "stdout",
     "output_type": "stream",
     "text": [
      "8\n"
     ]
    }
   ],
   "source": [
    "arr=[5,8,2,3,6,3]\n",
    "summ_e_o(arr)"
   ]
  },
  {
   "cell_type": "code",
   "execution_count": 30,
   "id": "f558324a-9718-44d4-92fc-4e7367ed61f3",
   "metadata": {},
   "outputs": [],
   "source": [
    " class  circularQ:\n",
    "     def __init__(self,size):\n",
    "         self.size = size\n",
    "         self.front = self.rear = -1\n",
    "         self.queue = [None]*size\n",
    "     def enqueue(self,data):\n",
    "         if (self,rear+1)%self.size == self.front:\n",
    "             print(\"Queue is full\")\n",
    "         elif self.front == -1:\n",
    "             self.rear = self.rear = 0\n",
    "             self.queue[self.rear] = data\n",
    "         else:\n",
    "             self.rear = (self.rear+1)%self.size\n",
    "             self.queue[self.rear] = data\n",
    "            "
   ]
  },
  {
   "cell_type": "code",
   "execution_count": null,
   "id": "9373b922-2eb0-47cc-83bb-262e363b0884",
   "metadata": {},
   "outputs": [],
   "source": []
  }
 ],
 "metadata": {
  "kernelspec": {
   "display_name": "Python 3 (ipykernel)",
   "language": "python",
   "name": "python3"
  },
  "language_info": {
   "codemirror_mode": {
    "name": "ipython",
    "version": 3
   },
   "file_extension": ".py",
   "mimetype": "text/x-python",
   "name": "python",
   "nbconvert_exporter": "python",
   "pygments_lexer": "ipython3",
   "version": "3.11.7"
  }
 },
 "nbformat": 4,
 "nbformat_minor": 5
}
