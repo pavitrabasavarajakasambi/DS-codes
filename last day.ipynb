{
 "cells": [
  {
   "cell_type": "code",
   "execution_count": 5,
   "id": "6fdc2858-e155-4c73-9480-2c9283339aec",
   "metadata": {},
   "outputs": [],
   "source": [
    "class MyTree:\n",
    "    class Treenode:\n",
    "        def __init__(self,data):\n",
    "            self.data = data\n",
    "            self.right = None\n",
    "            self.left = None\n",
    "    def __init__(self):\n",
    "        self.root = None \n",
    "    def insert(self,data):\n",
    "        new_node = MyTree.Treenode(data)\n",
    "        if self.root == None:\n",
    "            self.root = new_node\n",
    "            return\n",
    "        current = self.root\n",
    "        while True:\n",
    "            if data < current.data:\n",
    "                if current.left is None:\n",
    "                    current.left = new_node\n",
    "                    break\n",
    "                else:\n",
    "                    current = current.left\n",
    "            else:\n",
    "                if current.right is None:\n",
    "                    current.right = new_node\n",
    "                    print(\"node is inserted\")\n",
    "                    break\n",
    "                else:\n",
    "                    current = current.right\n",
    "\n",
    "    def search(self,val):\n",
    "       current = self.root\n",
    "       while current:\n",
    "           if current.data == val:\n",
    "               return True\n",
    "               break\n",
    "           elif current.data<val:\n",
    "               current = current.left\n",
    "           else:\n",
    "               current = current.right\n",
    "       return False\n",
    "        \n",
    "    def in_order_traversal(self,node):\n",
    "        if node:\n",
    "            self.in_order_traversal(node.left)\n",
    "            print(node.data,end='  ')\n",
    "            self.in_order_traversal(node.right)\n",
    "\n",
    "    def pre_order_traversal(self,node):\n",
    "       if node:\n",
    "           print(node.data,end='  ')\n",
    "           self.pre_order_traversal(node.left)\n",
    "           self.pre_order_traversal(node.right)\n",
    "\n",
    "    def post_order_traversal(self,node):\n",
    "       if node:\n",
    "           self.post_order_traversal(node.left)\n",
    "           self.post_order_traversal(node.right)\n",
    "           print(node.data, end='  ')\n",
    "\n",
    "               "
   ]
  },
  {
   "cell_type": "code",
   "execution_count": 6,
   "id": "743d50e1-c685-4770-8cdd-1f5376ced489",
   "metadata": {},
   "outputs": [],
   "source": [
    "j=MyTree()\n",
    "j.insert(90)\n",
    "j.insert(56) \n",
    "j.insert(12)"
   ]
  },
  {
   "cell_type": "code",
   "execution_count": 7,
   "id": "78d9a6da-a7b5-448b-a752-2e22b024f2e1",
   "metadata": {},
   "outputs": [
    {
     "data": {
      "text/plain": [
       "True"
      ]
     },
     "execution_count": 7,
     "metadata": {},
     "output_type": "execute_result"
    }
   ],
   "source": [
    "j.search(90)"
   ]
  },
  {
   "cell_type": "code",
   "execution_count": 8,
   "id": "f305e4ce-548c-42e5-99ab-1eaa5e18aedb",
   "metadata": {},
   "outputs": [
    {
     "name": "stdout",
     "output_type": "stream",
     "text": [
      "12  56  90  "
     ]
    }
   ],
   "source": [
    "j.in_order_traversal(j.root) "
   ]
  },
  {
   "cell_type": "code",
   "execution_count": 9,
   "id": "6d466484-aebf-4ae6-86e7-2086f9eacfa5",
   "metadata": {},
   "outputs": [
    {
     "name": "stdout",
     "output_type": "stream",
     "text": [
      "90  56  12  "
     ]
    }
   ],
   "source": [
    "j.pre_order_traversal(j.root) "
   ]
  },
  {
   "cell_type": "code",
   "execution_count": 10,
   "id": "c4926480-c625-48af-85bc-ce120b812e62",
   "metadata": {},
   "outputs": [
    {
     "name": "stdout",
     "output_type": "stream",
     "text": [
      "12  56  90  "
     ]
    }
   ],
   "source": [
    "j.post_order_traversal(j.root) "
   ]
  }
 ],
 "metadata": {
  "kernelspec": {
   "display_name": "Python 3 (ipykernel)",
   "language": "python",
   "name": "python3"
  },
  "language_info": {
   "codemirror_mode": {
    "name": "ipython",
    "version": 3
   },
   "file_extension": ".py",
   "mimetype": "text/x-python",
   "name": "python",
   "nbconvert_exporter": "python",
   "pygments_lexer": "ipython3",
   "version": "3.11.7"
  }
 },
 "nbformat": 4,
 "nbformat_minor": 5
}
